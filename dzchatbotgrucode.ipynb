{
 "cells": [
  {
   "cell_type": "markdown",
   "id": "d292ede3",
   "metadata": {
    "id": "FxuKOfKfLzxl",
    "papermill": {
     "duration": 0.027878,
     "end_time": "2022-10-19T19:55:24.778283",
     "exception": false,
     "start_time": "2022-10-19T19:55:24.750405",
     "status": "completed"
    },
    "tags": []
   },
   "source": [
    "# Import libraries"
   ]
  },
  {
   "cell_type": "code",
   "execution_count": 1,
   "id": "21308113",
   "metadata": {
    "execution": {
     "iopub.execute_input": "2022-10-19T19:55:24.820142Z",
     "iopub.status.busy": "2022-10-19T19:55:24.819179Z",
     "iopub.status.idle": "2022-10-19T19:55:30.006172Z",
     "shell.execute_reply": "2022-10-19T19:55:30.004945Z"
    },
    "executionInfo": {
     "elapsed": 2800,
     "status": "ok",
     "timestamp": 1658155514112,
     "user": {
      "displayName": "Dr. Abdennour BOULESNANE",
      "userId": "00791926392799085659"
     },
     "user_tz": -60
    },
    "id": "13DwAWyELzxr",
    "papermill": {
     "duration": 5.211485,
     "end_time": "2022-10-19T19:55:30.009298",
     "exception": false,
     "start_time": "2022-10-19T19:55:24.797813",
     "status": "completed"
    },
    "tags": []
   },
   "outputs": [],
   "source": [
    "#Import required packages\n",
    "import tensorflow as tf\n",
    "import matplotlib.pyplot as plt\n",
    "import pandas as pd\n",
    "import numpy as np"
   ]
  },
  {
   "cell_type": "markdown",
   "id": "3d5d30f6",
   "metadata": {
    "id": "IjholNHcLzx6",
    "papermill": {
     "duration": 0.019717,
     "end_time": "2022-10-19T19:55:30.048974",
     "exception": false,
     "start_time": "2022-10-19T19:55:30.029257",
     "status": "completed"
    },
    "tags": []
   },
   "source": [
    "# DATA COLLECTION"
   ]
  },
  {
   "cell_type": "code",
   "execution_count": 2,
   "id": "ca9c527d",
   "metadata": {
    "execution": {
     "iopub.execute_input": "2022-10-19T19:55:30.091376Z",
     "iopub.status.busy": "2022-10-19T19:55:30.090301Z",
     "iopub.status.idle": "2022-10-19T19:55:30.140648Z",
     "shell.execute_reply": "2022-10-19T19:55:30.139790Z"
    },
    "executionInfo": {
     "elapsed": 436,
     "status": "ok",
     "timestamp": 1658156407622,
     "user": {
      "displayName": "Dr. Abdennour BOULESNANE",
      "userId": "00791926392799085659"
     },
     "user_tz": -60
    },
    "id": "g6IVvSgNC3aj",
    "papermill": {
     "duration": 0.073972,
     "end_time": "2022-10-19T19:55:30.143247",
     "exception": false,
     "start_time": "2022-10-19T19:55:30.069275",
     "status": "completed"
    },
    "tags": []
   },
   "outputs": [],
   "source": [
    "DZdatacsv = pd.read_csv (r'DZMedicaldata.csv')\n",
    "DZdatacsv.columns =['ID','Question', 'Answer']"
   ]
  },
  {
   "cell_type": "code",
   "execution_count": 3,
   "id": "8be89214",
   "metadata": {
    "execution": {
     "iopub.execute_input": "2022-10-19T19:55:30.185252Z",
     "iopub.status.busy": "2022-10-19T19:55:30.184472Z",
     "iopub.status.idle": "2022-10-19T19:55:30.203445Z",
     "shell.execute_reply": "2022-10-19T19:55:30.202309Z"
    },
    "executionInfo": {
     "elapsed": 8,
     "status": "ok",
     "timestamp": 1658156408115,
     "user": {
      "displayName": "Dr. Abdennour BOULESNANE",
      "userId": "00791926392799085659"
     },
     "user_tz": -60
    },
    "id": "yWSfnnWWC-yc",
    "outputId": "cdacaf60-ea47-4061-e677-b2fce82bea6d",
    "papermill": {
     "duration": 0.042965,
     "end_time": "2022-10-19T19:55:30.205987",
     "exception": false,
     "start_time": "2022-10-19T19:55:30.163022",
     "status": "completed"
    },
    "tags": []
   },
   "outputs": [
    {
     "data": {
      "text/html": [
       "<div>\n",
       "<style scoped>\n",
       "    .dataframe tbody tr th:only-of-type {\n",
       "        vertical-align: middle;\n",
       "    }\n",
       "\n",
       "    .dataframe tbody tr th {\n",
       "        vertical-align: top;\n",
       "    }\n",
       "\n",
       "    .dataframe thead th {\n",
       "        text-align: right;\n",
       "    }\n",
       "</style>\n",
       "<table border=\"1\" class=\"dataframe\">\n",
       "  <thead>\n",
       "    <tr style=\"text-align: right;\">\n",
       "      <th></th>\n",
       "      <th>ID</th>\n",
       "      <th>Question</th>\n",
       "      <th>Answer</th>\n",
       "    </tr>\n",
       "  </thead>\n",
       "  <tbody>\n",
       "    <tr>\n",
       "      <th>0</th>\n",
       "      <td>2</td>\n",
       "      <td>وش هوما المأكولات لي يديرو الاسهال؟</td>\n",
       "      <td>الحليب و مشتقات الحليب</td>\n",
       "    </tr>\n",
       "    <tr>\n",
       "      <th>1</th>\n",
       "      <td>3</td>\n",
       "      <td>وش هوما المأكولات لي يديرو الصداع؟</td>\n",
       "      <td>القهوة . مشتقات الهيستامين\\r\\n</td>\n",
       "    </tr>\n",
       "    <tr>\n",
       "      <th>2</th>\n",
       "      <td>4</td>\n",
       "      <td>وشنهي هو فقر الدم؟</td>\n",
       "      <td>نقص كريات الدم الحمراء او الحديد\\r\\n</td>\n",
       "    </tr>\n",
       "    <tr>\n",
       "      <th>3</th>\n",
       "      <td>5</td>\n",
       "      <td>كيفاش تفيدني أشعة الشمس؟</td>\n",
       "      <td>فيتامين د\\r\\n</td>\n",
       "    </tr>\n",
       "    <tr>\n",
       "      <th>4</th>\n",
       "      <td>6</td>\n",
       "      <td>شحال الوزن الطبيعي نتاع انسان بالغ؟</td>\n",
       "      <td>مؤشر الكتلة الطبيعية بين ثمانية واحد و خمسة اثنين</td>\n",
       "    </tr>\n",
       "  </tbody>\n",
       "</table>\n",
       "</div>"
      ],
      "text/plain": [
       "   ID                             Question  \\\n",
       "0   2  وش هوما المأكولات لي يديرو الاسهال؟   \n",
       "1   3   وش هوما المأكولات لي يديرو الصداع؟   \n",
       "2   4                   وشنهي هو فقر الدم؟   \n",
       "3   5             كيفاش تفيدني أشعة الشمس؟   \n",
       "4   6  شحال الوزن الطبيعي نتاع انسان بالغ؟   \n",
       "\n",
       "                                              Answer  \n",
       "0                             الحليب و مشتقات الحليب  \n",
       "1                     القهوة . مشتقات الهيستامين\\r\\n  \n",
       "2               نقص كريات الدم الحمراء او الحديد\\r\\n  \n",
       "3                                      فيتامين د\\r\\n  \n",
       "4  مؤشر الكتلة الطبيعية بين ثمانية واحد و خمسة اثنين  "
      ]
     },
     "execution_count": 3,
     "metadata": {},
     "output_type": "execute_result"
    }
   ],
   "source": [
    "DZdatacsv.head(5)"
   ]
  },
  {
   "cell_type": "code",
   "execution_count": 4,
   "id": "71432aa7",
   "metadata": {
    "execution": {
     "iopub.execute_input": "2022-10-19T19:55:30.248075Z",
     "iopub.status.busy": "2022-10-19T19:55:30.247359Z",
     "iopub.status.idle": "2022-10-19T19:55:30.256495Z",
     "shell.execute_reply": "2022-10-19T19:55:30.255748Z"
    },
    "executionInfo": {
     "elapsed": 8,
     "status": "ok",
     "timestamp": 1658156408505,
     "user": {
      "displayName": "Dr. Abdennour BOULESNANE",
      "userId": "00791926392799085659"
     },
     "user_tz": -60
    },
    "id": "Ea6rrSnJxrnJ",
    "papermill": {
     "duration": 0.032892,
     "end_time": "2022-10-19T19:55:30.258709",
     "exception": false,
     "start_time": "2022-10-19T19:55:30.225817",
     "status": "completed"
    },
    "tags": []
   },
   "outputs": [],
   "source": [
    "DZdatacsv = DZdatacsv.set_index('ID')"
   ]
  },
  {
   "cell_type": "code",
   "execution_count": 5,
   "id": "0c314e7a",
   "metadata": {
    "execution": {
     "iopub.execute_input": "2022-10-19T19:55:30.300506Z",
     "iopub.status.busy": "2022-10-19T19:55:30.299751Z",
     "iopub.status.idle": "2022-10-19T19:55:30.310305Z",
     "shell.execute_reply": "2022-10-19T19:55:30.309337Z"
    },
    "executionInfo": {
     "elapsed": 9,
     "status": "ok",
     "timestamp": 1658156408950,
     "user": {
      "displayName": "Dr. Abdennour BOULESNANE",
      "userId": "00791926392799085659"
     },
     "user_tz": -60
    },
    "id": "wGmjDW1AyEm2",
    "outputId": "96070552-ac5a-45e7-f911-9344946006c6",
    "papermill": {
     "duration": 0.033903,
     "end_time": "2022-10-19T19:55:30.312479",
     "exception": false,
     "start_time": "2022-10-19T19:55:30.278576",
     "status": "completed"
    },
    "tags": []
   },
   "outputs": [
    {
     "data": {
      "text/html": [
       "<div>\n",
       "<style scoped>\n",
       "    .dataframe tbody tr th:only-of-type {\n",
       "        vertical-align: middle;\n",
       "    }\n",
       "\n",
       "    .dataframe tbody tr th {\n",
       "        vertical-align: top;\n",
       "    }\n",
       "\n",
       "    .dataframe thead th {\n",
       "        text-align: right;\n",
       "    }\n",
       "</style>\n",
       "<table border=\"1\" class=\"dataframe\">\n",
       "  <thead>\n",
       "    <tr style=\"text-align: right;\">\n",
       "      <th></th>\n",
       "      <th>Question</th>\n",
       "      <th>Answer</th>\n",
       "    </tr>\n",
       "    <tr>\n",
       "      <th>ID</th>\n",
       "      <th></th>\n",
       "      <th></th>\n",
       "    </tr>\n",
       "  </thead>\n",
       "  <tbody>\n",
       "    <tr>\n",
       "      <th>2</th>\n",
       "      <td>وش هوما المأكولات لي يديرو الاسهال؟</td>\n",
       "      <td>الحليب و مشتقات الحليب</td>\n",
       "    </tr>\n",
       "    <tr>\n",
       "      <th>3</th>\n",
       "      <td>وش هوما المأكولات لي يديرو الصداع؟</td>\n",
       "      <td>القهوة . مشتقات الهيستامين\\r\\n</td>\n",
       "    </tr>\n",
       "    <tr>\n",
       "      <th>4</th>\n",
       "      <td>وشنهي هو فقر الدم؟</td>\n",
       "      <td>نقص كريات الدم الحمراء او الحديد\\r\\n</td>\n",
       "    </tr>\n",
       "    <tr>\n",
       "      <th>5</th>\n",
       "      <td>كيفاش تفيدني أشعة الشمس؟</td>\n",
       "      <td>فيتامين د\\r\\n</td>\n",
       "    </tr>\n",
       "    <tr>\n",
       "      <th>6</th>\n",
       "      <td>شحال الوزن الطبيعي نتاع انسان بالغ؟</td>\n",
       "      <td>مؤشر الكتلة الطبيعية بين ثمانية واحد و خمسة اثنين</td>\n",
       "    </tr>\n",
       "  </tbody>\n",
       "</table>\n",
       "</div>"
      ],
      "text/plain": [
       "                               Question  \\\n",
       "ID                                        \n",
       "2   وش هوما المأكولات لي يديرو الاسهال؟   \n",
       "3    وش هوما المأكولات لي يديرو الصداع؟   \n",
       "4                    وشنهي هو فقر الدم؟   \n",
       "5              كيفاش تفيدني أشعة الشمس؟   \n",
       "6   شحال الوزن الطبيعي نتاع انسان بالغ؟   \n",
       "\n",
       "                                               Answer  \n",
       "ID                                                     \n",
       "2                              الحليب و مشتقات الحليب  \n",
       "3                      القهوة . مشتقات الهيستامين\\r\\n  \n",
       "4                نقص كريات الدم الحمراء او الحديد\\r\\n  \n",
       "5                                       فيتامين د\\r\\n  \n",
       "6   مؤشر الكتلة الطبيعية بين ثمانية واحد و خمسة اثنين  "
      ]
     },
     "execution_count": 5,
     "metadata": {},
     "output_type": "execute_result"
    }
   ],
   "source": [
    "DZdatacsv.head(5)"
   ]
  },
  {
   "cell_type": "code",
   "execution_count": 6,
   "id": "30f648a2",
   "metadata": {
    "execution": {
     "iopub.execute_input": "2022-10-19T19:55:30.355664Z",
     "iopub.status.busy": "2022-10-19T19:55:30.354844Z",
     "iopub.status.idle": "2022-10-19T19:55:30.361645Z",
     "shell.execute_reply": "2022-10-19T19:55:30.360799Z"
    },
    "executionInfo": {
     "elapsed": 5,
     "status": "ok",
     "timestamp": 1658156416586,
     "user": {
      "displayName": "Dr. Abdennour BOULESNANE",
      "userId": "00791926392799085659"
     },
     "user_tz": -60
    },
    "id": "XLzo0RU1-gN9",
    "outputId": "32cb7cad-52ea-4c4a-b043-938aed40b8fc",
    "papermill": {
     "duration": 0.031175,
     "end_time": "2022-10-19T19:55:30.363858",
     "exception": false,
     "start_time": "2022-10-19T19:55:30.332683",
     "status": "completed"
    },
    "tags": []
   },
   "outputs": [
    {
     "data": {
      "text/plain": [
       "(2150, 2)"
      ]
     },
     "execution_count": 6,
     "metadata": {},
     "output_type": "execute_result"
    }
   ],
   "source": [
    "DZdatacsv.shape"
   ]
  },
  }
